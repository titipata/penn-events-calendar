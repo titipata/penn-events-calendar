{
 "cells": [
  {
   "cell_type": "code",
   "execution_count": null,
   "metadata": {},
   "outputs": [],
   "source": [
    "from fetch_events import *\n",
    "from tqdm import tqdm\n",
    "import pandas as pd\n",
    "from dateutil import parser"
   ]
  },
  {
   "cell_type": "code",
   "execution_count": null,
   "metadata": {},
   "outputs": [],
   "source": [
    "events = []\n",
    "fetch_fns = [\n",
    "    fetch_events_cni, fetch_events_english_dept, fetch_events_crim, \n",
    "    fetch_events_mec, fetch_events_biology, fetch_events_economics, \n",
    "    fetch_events_philosophy, fetch_events_classical_studies, fetch_events_linguistic, \n",
    "    fetch_events_earth_enviromental_science, fetch_events_art_history, fetch_events_sociology, \n",
    "    fetch_events_cceb, fetch_events_cis, fetch_events_CURF, \n",
    "    fetch_events_upibi, fetch_events_ldi, fetch_events_korean_studies, \n",
    "    fetch_events_cscc, fetch_events_fels, fetch_events_sciencehistory, \n",
    "    fetch_events_HIP, fetch_events_italian_studies, fetch_events_CEMB, \n",
    "    fetch_events_CEAS, fetch_events_CASI, fetch_events_african_studies, \n",
    "    fetch_events_business_ethics, fetch_events_law, fetch_events_penn_SAS, \n",
    "    fetch_events_physics_astronomy, fetch_events_wolf_humanities, fetch_events_music_dept, \n",
    "    fetch_events_annenberg, fetch_events_religious_studies, fetch_events_AHEAD, \n",
    "    fetch_events_SPP, fetch_events_ortner_center, fetch_event_penn_today\n",
    "]\n",
    "for f in tqdm(fetch_fns):\n",
    "    events.extend(f())"
   ]
  },
  {
   "cell_type": "code",
   "execution_count": null,
   "metadata": {},
   "outputs": [],
   "source": [
    "event_df = pd.DataFrame(events)"
   ]
  },
  {
   "cell_type": "code",
   "execution_count": null,
   "metadata": {},
   "outputs": [],
   "source": [
    "patterns = [\n",
    "    r'^[a-zA-Z]+, ([a-zA-Z]+ [0-9]{1,2}, [0-9]{4}).*',\n",
    "    r'^([a-zA-Z]+ [0-9]{1,2}, [0-9]{4}) .*',\n",
    "    r'^([a-zA-Z]+ [0-9]{1,2}) @.*',\n",
    "    r'^([a-zA-Z]{3}\\.? [0-9]{1,2}, [0-9]{4}) .*',\n",
    "    r'^([a-zA-Z]{3} [0-9]{1,2} [0-9]{4})[0-9]{1,2}:[0-9]{2}.*',\n",
    "    r'^[a-zA-Z]{3}, ([0-9\\/]{10}) .*',\n",
    "    r'^[a-zA-Z]+, ([0-9]{1,2} [a-zA-Z]+ [0-9]{4})[— ]-?.*',\n",
    "    r'^([0-9]{1,2} [a-zA-Z]{3} [0-9]{4}) .*'\n",
    "]\n",
    "\n",
    "pats = [re.compile(pat) for pat in patterns]\n",
    "\n",
    "for event in events:\n",
    "#     print(event.keys(), event['url'])\n",
    "    d = event['date']\n",
    "    if not pd.isnull(d) and d != '':\n",
    "        check = list(map(lambda x: x.sub(r'\\1', d) if x.match(d) else None, pats))\n",
    "        if not any(check):\n",
    "            try:\n",
    "                parser.parse(d)\n",
    "            except:\n",
    "                \n",
    "                print(d, check)"
   ]
  }
 ],
 "metadata": {
  "kernelspec": {
   "display_name": "Python 3",
   "language": "python",
   "name": "python3"
  },
  "language_info": {
   "codemirror_mode": {
    "name": "ipython",
    "version": 3
   },
   "file_extension": ".py",
   "mimetype": "text/x-python",
   "name": "python",
   "nbconvert_exporter": "python",
   "pygments_lexer": "ipython3",
   "version": "3.7.2"
  }
 },
 "nbformat": 4,
 "nbformat_minor": 2
}
